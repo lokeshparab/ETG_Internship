{
  "nbformat": 4,
  "nbformat_minor": 0,
  "metadata": {
    "colab": {
      "name": "IMS.ipynb",
      "provenance": [],
      "authorship_tag": "ABX9TyPMwfP5cxHMamE8p7gap+Uk",
      "include_colab_link": true
    },
    "kernelspec": {
      "name": "python3",
      "display_name": "Python 3"
    },
    "language_info": {
      "name": "python"
    }
  },
  "cells": [
    {
      "cell_type": "markdown",
      "metadata": {
        "id": "view-in-github",
        "colab_type": "text"
      },
      "source": [
        "<a href=\"https://colab.research.google.com/github/lokeshparab/ETG_Internship/blob/main/IMS.ipynb\" target=\"_parent\"><img src=\"https://colab.research.google.com/assets/colab-badge.svg\" alt=\"Open In Colab\"/></a>"
      ]
    },
    {
      "cell_type": "markdown",
      "metadata": {
        "id": "x40uHG0Iw23N"
      },
      "source": [
        "#**Intialization of Data** (not required)"
      ]
    },
    {
      "cell_type": "markdown",
      "metadata": {
        "id": "37xo8yxKw_6E"
      },
      "source": [
        "##**Product Details**"
      ]
    },
    {
      "cell_type": "code",
      "metadata": {
        "id": "-zv0lKygDWSc"
      },
      "source": [
        "records={'100':{\"prod_name\":\"dairy milk\",\"category\":\"chocalate\",\"prize\":25,\"quantity\":10,\"discount\":10},\n",
        "\n",
        "         '101':{\"prod_name\":\"5-star\",\"category\":\"chocalate\",\"prize\":15,\"quantity\":15,\"discount\":5},  \n",
        "         \n",
        "         '102':{\"prod_name\":\"kit-kat\",\"category\":\"chocalate\",\"prize\":20,\"quantity\":30,\"discount\":15},\n",
        "\n",
        "         '103':{\"prod_name\":\"parle-G\",\"category\":\"Biscuit\",\"prize\":10,\"quantity\":1000,\"discount\":0},\n",
        "\n",
        "         '104':{\"prod_name\":\"MONACO\",\"category\":\"Biscuit\",\"prize\":5,\"quantity\":1076,\"discount\":0},\n",
        "\n",
        "         '105':{\"prod_name\":\"TIGER\",\"category\":\"Biscuit\",\"prize\":5,\"quantity\":10788,\"discount\":0},\n",
        "\n",
        "         '106':{\"prod_name\":\"MARIE-GOLD\",\"category\":\"Biscuit\",\"prize\":10,\"quantity\":10443,\"discount\":0},\n",
        "\n",
        "         '107':{\"prod_name\":\"MARIE-LITE\",\"category\":\"Biscuit\",\"prize\":10,\"quantity\":1087,\"discount\":5},\n",
        "\n",
        "         '108':{\"prod_name\":\"50-50\",\"category\":\"Biscuit\",\"prize\":5,\"quantity\":1098,\"discount\":0},\n",
        "\n",
        "         '109':{\"prod_name\":\"20-20\",\"category\":\"Biscuit\",\"prize\":5,\"quantity\":1000,\"discount\":0},\n",
        "\n",
        "         '110':{\"prod_name\":\"OREO\",\"category\":\"Biscuit\",\"prize\":25,\"quantity\":2000,\"discount\":0},\n",
        "\n",
        "         '111':{\"prod_name\":\"PARLE-GOLD\",\"category\":\"Biscuit\",\"prize\":20,\"quantity\":460,\"discount\":0},\n",
        "\n",
        "         '112':{\"prod_name\":\"MAZHA\",\"category\":\"soft drink\",\"prize\":25,\"quantity\":890,\"discount\":0},\n",
        "\n",
        "         '113':{\"prod_name\":\"THUMS-UP\",\"category\":\"soft drink\",\"prize\":25,\"quantity\":2350,\"discount\":0},\n",
        "\n",
        "         '114':{\"prod_name\":\"MIRINDA\",\"category\":\"soft drink\",\"prize\":25,\"quantity\":1200,\"discount\":15},\n",
        "\n",
        "         '115':{\"prod_name\":\"VANILA FLEVER\",\"category\":\"icecream\",\"prize\":20,\"quantity\":2350,\"discount\":30},\n",
        "\n",
        "         '116':{\"prod_name\":\"MANGO FLEVER\",\"category\":\"icecream\",\"prize\":20,\"quantity\":7890,\"discount\":4},\n",
        "\n",
        "         '117':{\"prod_name\":\"CHOCALATE FLEVER\",\"category\":\"icecream\",\"prize\":20,\"quantity\":1230,\"discount\":5},\n",
        "\n",
        "         '118':{\"prod_name\":\"KURKURE\",\"category\":\"snake\",\"prize\":10,\"quantity\":4560,\"discount\":6},\n",
        "\n",
        "         '119':{\"prod_name\":\"TAKA-TAK\",\"category\":\"snake\",\"prize\":10,\"quantity\":1000,\"discount\":6},\n",
        "\n",
        "         '120':{\"prod_name\":\"TEDHE-MEDHE\",\"category\":\"snake\",\"prize\":10,\"quantity\":1010,\"discount\":1},\n",
        "\n",
        "         '121':{\"prod_name\":\"MAGGIE\",\"category\":\"snake\",\"prize\":10,\"quantity\":1500,\"discount\":18},\n",
        "\n",
        "         '122':{\"prod_name\":\"UNCLE-CHIPS\",\"category\":\"snake\",\"prize\":10,\"quantity\":500,\"discount\":21},\n",
        "\n",
        "         '123':{\"prod_name\":\"TOMATO-CHIPS\",\"category\":\"snake\",\"prize\":10,\"quantity\":600,\"discount\":13},\n",
        "\n",
        "         '124':{\"prod_name\":\"FRUITI\",\"category\":\"soft drink\",\"prize\":25,\"quantity\":700,\"discount\":0},\n",
        "\n",
        "         '125':{\"prod_name\":\"SPIRIT\",\"category\":\"soft drink\",\"prize\":25,\"quantity\":8000,\"discount\":10},\n",
        "\n",
        "         '126':{\"prod_name\":\"CADBURY\",\"category\":\"chocalate\",\"prize\":25,\"quantity\":5689,\"discount\":10},\n",
        "\n",
        "         '127':{\"prod_name\":\"GALAXY\",\"category\":\"chocalate\",\"prize\":25,\"quantity\":1230,\"discount\":10},\n",
        "\n",
        "         '128':{\"prod_name\":\"NESTLE\",\"category\":\"chocalate\",\"prize\":25,\"quantity\":1500,\"discount\":10},\n",
        "\n",
        "         '129':{\"prod_name\":\"AMUL\",\"category\":\"chocalate\",\"prize\":25,\"quantity\":6500,\"discount\":10},\n",
        "\n",
        "         '130':{\"prod_name\":\"FERRO ROCHER\",\"category\":\"chocalate\",\"prize\":25,\"quantity\":10,\"discount\":10},\n",
        "\n",
        "         '131':{\"prod_name\":\"HERSHEY\",\"category\":\"chocalate\",\"prize\":25,\"quantity\":10,\"discount\":10}}"
      ],
      "execution_count": null,
      "outputs": []
    },
    {
      "cell_type": "markdown",
      "metadata": {
        "id": "cvDrisz-xEi0"
      },
      "source": [
        "##**Transaction details**\n",
        "transaction_id{\n",
        "\n",
        "    cust_name:\n",
        "    prod_id1:{ quantity,tot_amt }   \n",
        "    prod_id2:{ quantity,tot_amt } \n",
        "    prod_id3:{ quantity,tot_amt } \n",
        "\n",
        "}"
      ]
    },
    {
      "cell_type": "code",
      "metadata": {
        "id": "Zi-0U7WCxTEm"
      },
      "source": [
        "transaction={\n",
        "    '1000':{ \n",
        "        'cust_name':'rahul',\n",
        "        'time': 'Mon Sep  6 14:30:11 2021',\n",
        "        '102':{ \"quantity\":3,\"tot_amt\":51},\n",
        "        '114':{ \"quantity\":4,\"tot_amt\":85},\n",
        "        '109':{ \"quantity\":1,\"tot_amt\":5}\n",
        "         }    \n",
        "}"
      ],
      "execution_count": null,
      "outputs": []
    },
    {
      "cell_type": "markdown",
      "metadata": {
        "id": "KQZL6kaBCD9b"
      },
      "source": [
        "##**Read and write function**"
      ]
    },
    {
      "cell_type": "code",
      "metadata": {
        "id": "FB7SUXzkCO2D"
      },
      "source": [
        "import json as js\n",
        "# reads records.json file and return dictionary \n",
        "def file_read():\n",
        "  print(\"*\"*80)\n",
        "  fw = open('records.json','r')\n",
        "  r = js.loads(fw.read())\n",
        "  fw.close()\n",
        "  return r\n",
        "  pass\n",
        "\n",
        "#Write records.json file for given dictionaty input \n",
        "def file_write(var):\n",
        "  fw = open('records.json','w')\n",
        "  fw.write(js.dumps(var))\n",
        "  fw.close()\n",
        "  pass"
      ],
      "execution_count": 14,
      "outputs": []
    },
    {
      "cell_type": "code",
      "metadata": {
        "id": "v5GDs62VGV-9"
      },
      "source": [
        "import json as js\n",
        "# reads records.json file and return dictionary \n",
        "def file_read_t():\n",
        "  print(\"*\"*80)\n",
        "  fw = open('transaction.json','r')\n",
        "  r = js.loads(fw.read())\n",
        "  fw.close()\n",
        "  return r\n",
        "  pass\n",
        "\n",
        "#Write records.json file for given dictionaty input \n",
        "def file_write_t(var):\n",
        "  fw = open('transaction.json','w')\n",
        "  fw.write(js.dumps(var))\n",
        "  fw.close()\n",
        "  pass"
      ],
      "execution_count": 15,
      "outputs": []
    },
    {
      "cell_type": "markdown",
      "metadata": {
        "id": "WoqkuT3NxWSs"
      },
      "source": [
        "##**Create JSON file**"
      ]
    },
    {
      "cell_type": "markdown",
      "metadata": {
        "id": "_E5a7an8xlEi"
      },
      "source": [
        "###Product detail"
      ]
    },
    {
      "cell_type": "code",
      "metadata": {
        "id": "1aFcy3ItCpkb"
      },
      "source": [
        "file_write(records)"
      ],
      "execution_count": null,
      "outputs": []
    },
    {
      "cell_type": "markdown",
      "metadata": {
        "id": "FDgG9XzGxpmS"
      },
      "source": [
        "###Transaction Details"
      ]
    },
    {
      "cell_type": "code",
      "metadata": {
        "id": "UMQy-t8Cxe1c"
      },
      "source": [
        "file_write_t(transaction)"
      ],
      "execution_count": null,
      "outputs": []
    },
    {
      "cell_type": "markdown",
      "metadata": {
        "id": "n3GOWetVw16f"
      },
      "source": [
        "##**Read JSON file**"
      ]
    },
    {
      "cell_type": "markdown",
      "metadata": {
        "id": "6unGIpHkxwuI"
      },
      "source": [
        "###Product detail"
      ]
    },
    {
      "cell_type": "code",
      "metadata": {
        "colab": {
          "base_uri": "https://localhost:8080/"
        },
        "id": "8YDhhtjuEOCE",
        "outputId": "13787adb-4e7d-4f30-c35b-dd135336365c"
      },
      "source": [
        "file_read()"
      ],
      "execution_count": null,
      "outputs": [
        {
          "output_type": "stream",
          "name": "stdout",
          "text": [
            "********************************************************************************\n"
          ]
        }
      ]
    },
    {
      "cell_type": "markdown",
      "metadata": {
        "id": "fMtyjFYwxyDN"
      },
      "source": [
        "###Transaction Details"
      ]
    },
    {
      "cell_type": "code",
      "metadata": {
        "colab": {
          "base_uri": "https://localhost:8080/"
        },
        "id": "7FzuQCg8x2bb",
        "outputId": "c72de3a5-aa25-443b-fa20-544e6aaaceda"
      },
      "source": [
        "file_read_t()"
      ],
      "execution_count": null,
      "outputs": [
        {
          "output_type": "stream",
          "name": "stdout",
          "text": [
            "********************************************************************************\n"
          ]
        },
        {
          "output_type": "execute_result",
          "data": {
            "text/plain": [
              "{'1000': {'102': {'quantity': 3, 'tot_amt': 51},\n",
              "  '109': {'quantity': 1, 'tot_amt': 5},\n",
              "  '114': {'quantity': 4, 'tot_amt': 85},\n",
              "  'cust_name': 'rahul',\n",
              "  'time': 'Mon Sep  6 14:30:11 2021'},\n",
              " '1001': {'101': {'quantity': 11, 'tot_amt': 156.75},\n",
              "  '111': {'quantity': 22, 'tot_amt': 440.0},\n",
              "  '123': {'quantity': 32, 'tot_amt': 278.4},\n",
              "  '125': {'quantity': 34, 'tot_amt': 765.0},\n",
              "  'cust_name': 'lokesh',\n",
              "  'time': 'Mon Sep  6 15:28:18 2021'},\n",
              " '1002': {'100': {'quantity': 10, 'tot_amt': 225.0},\n",
              "  '111': {'quantity': 22, 'tot_amt': 440.0},\n",
              "  '124': {'quantity': 32, 'tot_amt': 800.0},\n",
              "  '125': {'quantity': 34, 'tot_amt': 765.0},\n",
              "  'cust_name': 'sahil',\n",
              "  'time': 'Mon Sep  6 15:36:12 2021'},\n",
              " '1003': {'100': {'quantity': 10, 'tot_amt': 225.0},\n",
              "  '101': {'quantity': 9, 'tot_amt': 128.25},\n",
              "  '103': {'quantity': 4, 'tot_amt': 40.0},\n",
              "  '115': {'quantity': 1, 'tot_amt': 14.0},\n",
              "  '128': {'quantity': 17, 'tot_amt': 382.5},\n",
              "  'cust_name': 'pratik',\n",
              "  'time': 'Mon Sep  6 15:48:20 2021'}}"
            ]
          },
          "metadata": {},
          "execution_count": 60
        }
      ]
    },
    {
      "cell_type": "markdown",
      "metadata": {
        "id": "K6FDKRS8A1kV"
      },
      "source": [
        "#**Requirement**"
      ]
    },
    {
      "cell_type": "code",
      "metadata": {
        "id": "MCkp6U1GA8Li"
      },
      "source": [
        "import json as js\n",
        "# reads records.json file and return dictionary \n",
        "def file_read():\n",
        "  print(\"*\"*80)\n",
        "  fw = open('records.json','r')\n",
        "  r = js.loads(fw.read())\n",
        "  fw.close()\n",
        "  return r\n",
        "  pass\n",
        "\n",
        "#Write records.json file for given dictionaty input \n",
        "def file_write(var):\n",
        "  fw = open('records.json','w')\n",
        "  fw.write(js.dumps(var))\n",
        "  fw.close()\n",
        "  pass"
      ],
      "execution_count": 16,
      "outputs": []
    },
    {
      "cell_type": "code",
      "metadata": {
        "id": "He1gdWAgA9Nv"
      },
      "source": [
        "# reads records.json file and return dictionary \n",
        "def file_read_t():\n",
        "  print(\"*\"*80)\n",
        "  fw = open('transaction.json','r')\n",
        "  r = js.loads(fw.read())\n",
        "  fw.close()\n",
        "  return r\n",
        "  pass\n",
        "\n",
        "#Write records.json file for given dictionaty input \n",
        "def file_write_t(var):\n",
        "  fw = open('transaction.json','w')\n",
        "  fw.write(js.dumps(var))\n",
        "  fw.close()\n",
        "  pass"
      ],
      "execution_count": 17,
      "outputs": []
    },
    {
      "cell_type": "markdown",
      "metadata": {
        "id": "HWieBrv5Brp7"
      },
      "source": [
        "#**Add New Item in Inventory**"
      ]
    },
    {
      "cell_type": "code",
      "metadata": {
        "id": "8NU2vUjUB3Uj"
      },
      "source": [
        "def add_item():\n",
        "\n",
        "  records = file_read()\n",
        "  print(\"Enter your choice\\n1.Add Existing item\\n2.Add New Item\")\n",
        "  opt = int(input())\n",
        "  print('*'*80)\n",
        "\n",
        "  keys = records.keys()\n",
        "  \n",
        "\n",
        "  if opt==1:\n",
        "    while True:\n",
        "      prod_id = input('Enter the product id: ')\n",
        "      if prod_id in keys: \n",
        "        break\n",
        "      else: print('Not present try again')\n",
        "    print('| Product Name:',records[prod_id][\"prod_name\"],'| Category:',records[prod_id][\"category\"],'| Quantity:',records[prod_id][\"quantity\"])\n",
        "    records[prod_id]['quantity'] += int(input(\"Enter the quantity to be added: \"))\n",
        "  else:\n",
        "    id = str(int(max(keys))+1)\n",
        "    records[id]={}\n",
        "    records[id][\"prod_name\"]=input(\"enter product name: \")\n",
        "    records[id][\"category\"]=input(\"enter product category: \")\n",
        "    records[id][\"prize\"]=int(input(\"enter product prize: \"))\n",
        "    records[id][\"quantity\"]=int(input(\"enter product quantity: \"))\n",
        "    records[id][\"discount\"]=int(input(\"enter product discount(%): \"))\n",
        "\n",
        "  print('*'*80)\n",
        "  print('Done')\n",
        "\n",
        "  file_write(records)\n",
        "\n",
        " \n"
      ],
      "execution_count": 23,
      "outputs": []
    },
    {
      "cell_type": "code",
      "metadata": {
        "id": "lzvG5G_W-FgN",
        "colab": {
          "base_uri": "https://localhost:8080/"
        },
        "outputId": "8fbc4b8a-4ffa-4023-d8fd-3ce88ce98295"
      },
      "source": [
        "while True:\n",
        "  add_item()\n",
        "  if not int(input('Press 0 for exit or 1 for continue: ')): break"
      ],
      "execution_count": 24,
      "outputs": [
        {
          "name": "stdout",
          "output_type": "stream",
          "text": [
            "********************************************************************************\n",
            "Enter your choice\n",
            "1.Add Existing item\n",
            "2.Add New Item\n",
            "1\n",
            "********************************************************************************\n",
            "Enter the product id: 100\n",
            "| Product Name: dairy milk | Category: chocalate | Quantity: 0\n",
            "Enter the quantity to be added: 10\n",
            "********************************************************************************\n",
            "Done\n",
            "Press 0 for exit or 1 for continue: 1\n",
            "********************************************************************************\n",
            "Enter your choice\n",
            "1.Add Existing item\n",
            "2.Add New Item\n",
            "2\n",
            "********************************************************************************\n",
            "enter product name: ECLAIR\n",
            "enter product category: chocalate\n",
            "enter product prize: 2\n",
            "enter product quantity: 100\n",
            "enter product discount(%): 0\n",
            "********************************************************************************\n",
            "Done\n",
            "Press 0 for exit or 1 for continue: 0\n"
          ]
        }
      ]
    },
    {
      "cell_type": "markdown",
      "metadata": {
        "id": "oK12weQCFwhr"
      },
      "source": [
        "#**Purchase the new item from customers**"
      ]
    },
    {
      "cell_type": "code",
      "metadata": {
        "id": "flOZPsx9F2bH"
      },
      "source": [
        "import time\n",
        "\n",
        "def purchase():\n",
        "\n",
        "  transact = file_read_t()\n",
        "  records = file_read()\n",
        "  item=[]\n",
        "  tot_amt=0\n",
        "\n",
        "  while True:\n",
        "    prod_id = input(\"enter id of product you want to purchase: \")\n",
        "    qty = int(input(\"enter quantity of product: \"))\n",
        "\n",
        "    if records[prod_id]['quantity'] < qty: print('Out of stock')\n",
        "    else:\n",
        "      records[prod_id]['quantity'] -= qty\n",
        "      item.append( (prod_id,qty) )\n",
        "\n",
        "    if not int(input('Press 0 for exit or 1 for continue: ')):break\n",
        "\n",
        "\n",
        "  print('*'*80)\n",
        "  cust_name=input(\"enter customer name:\")\n",
        "\n",
        "  new_transact_id = str(int(max(transact.keys()))+1)\n",
        "  t=time.ctime()\n",
        "  transact[new_transact_id]={ 'cust_name': cust_name, 'time': t }\n",
        "\n",
        "  print('*'*80)\n",
        "  print('Transation id:',new_transact_id,'Customer Name:',cust_name)\n",
        "  print('*'*80)\n",
        "  for prod_id , qty in item:\n",
        "\n",
        "    discount = records[prod_id]['discount']\n",
        "    item_amt = records[prod_id]['prize'] * qty * (100 - discount) / 100\n",
        "    \n",
        "    print('| Product Name:',records[prod_id][\"prod_name\"],'| Quantiyy:',qty,'| Discount',discount,'| Amount:',item_amt)\n",
        "\n",
        "    transact[new_transact_id][prod_id]={ \"quantity\":qty, 'tot_amt': item_amt }\n",
        "\n",
        "    tot_amt += item_amt\n",
        "\n",
        "  print('*'*80)\n",
        "  print('Total Amount:',tot_amt)\n",
        "  print('*'*80)\n",
        "\n",
        "  if input('Do you want to proceed Press y: ') != 'y': del transact[new_transact_id]\n",
        "  else: \n",
        "    file_write(records)\n",
        "    file_write_t(transact)\n",
        "\n",
        "  \n",
        "  \n",
        "\n",
        "\n",
        "\n"
      ],
      "execution_count": null,
      "outputs": []
    },
    {
      "cell_type": "code",
      "metadata": {
        "colab": {
          "base_uri": "https://localhost:8080/"
        },
        "id": "U887PnL_ylm1",
        "outputId": "1b4c85c1-d8e0-459e-d30b-09859c8393ff"
      },
      "source": [
        "purchase()"
      ],
      "execution_count": null,
      "outputs": [
        {
          "name": "stdout",
          "output_type": "stream",
          "text": [
            "********************************************************************************\n",
            "********************************************************************************\n",
            "enter id of product you want to purchase: 100\n",
            "enter quantity of product: 10\n",
            "Press 0 for exit or 1 for continue: 1\n",
            "enter id of product you want to purchase: 128\n",
            "enter quantity of product: 17\n",
            "Press 0 for exit or 1 for continue: 1\n",
            "enter id of product you want to purchase: 115\n",
            "enter quantity of product: 1\n",
            "Press 0 for exit or 1 for continue: 1\n",
            "enter id of product you want to purchase: 101\n",
            "enter quantity of product: 9\n",
            "Press 0 for exit or 1 for continue: 1\n",
            "enter id of product you want to purchase: 103\n",
            "enter quantity of product: 4\n",
            "Press 0 for exit or 1 for continue: 0\n",
            "********************************************************************************\n",
            "enter customer name:pratik\n",
            "********************************************************************************\n",
            "Transation id: 1003 Customer Name: pratik\n",
            "********************************************************************************\n",
            "| Product Name: dairy milk | Quantiyy: 10 | Discount 10 | Amount: 225.0\n",
            "| Product Name: NESTLE | Quantiyy: 17 | Discount 10 | Amount: 382.5\n",
            "| Product Name: VANILA FLEVER | Quantiyy: 1 | Discount 30 | Amount: 14.0\n",
            "| Product Name: 5-star | Quantiyy: 9 | Discount 5 | Amount: 128.25\n",
            "| Product Name: parle-G | Quantiyy: 4 | Discount 0 | Amount: 40.0\n",
            "********************************************************************************\n",
            "Total Amount: 789.75\n",
            "********************************************************************************\n",
            "Do you want to proceed Press y: y\n"
          ]
        }
      ]
    }
  ]
}