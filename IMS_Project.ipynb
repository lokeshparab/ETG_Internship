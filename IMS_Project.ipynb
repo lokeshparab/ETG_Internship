{
  "nbformat": 4,
  "nbformat_minor": 0,
  "metadata": {
    "colab": {
      "name": "IMS_Project.ipynb",
      "provenance": [],
      "collapsed_sections": [
        "NAAlzUFaw-eI"
      ],
      "toc_visible": true,
      "include_colab_link": true
    },
    "kernelspec": {
      "name": "python3",
      "display_name": "Python 3"
    },
    "language_info": {
      "name": "python"
    }
  },
  "cells": [
    {
      "cell_type": "markdown",
      "metadata": {
        "id": "view-in-github",
        "colab_type": "text"
      },
      "source": [
        "<a href=\"https://colab.research.google.com/github/lokeshparab/ETG_Internship/blob/main/IMS_Project.ipynb\" target=\"_parent\"><img src=\"https://colab.research.google.com/assets/colab-badge.svg\" alt=\"Open In Colab\"/></a>"
      ]
    },
    {
      "cell_type": "markdown",
      "metadata": {
        "id": "jfvfqLttzblK"
      },
      "source": [
        "#**Reference**\n",
        "Make dictionary key,value pair UI based. (Ignore no use for this project)"
      ]
    },
    {
      "cell_type": "code",
      "metadata": {
        "id": "g_TkU54UzakM"
      },
      "source": [
        "\n",
        "\n",
        "def dictionary_maker():\n",
        "  record={}\n",
        "  while True:\n",
        "\n",
        "    key,Type,isvalueDict=map(str,input(\"Enter the key in format ( keyname type isvaluedict ): \").split())\n",
        "\n",
        "    if Type=='int':\n",
        "      while True:\n",
        "        try:\n",
        "          key=int(key)\n",
        "          break\n",
        "        except:\n",
        "          key=input(\"Enter the valid int type key: \")\n",
        "\n",
        "    if isvalueDict.lower()=='y':  record[key]=dictionary_maker()\n",
        "\n",
        "    elif isvalueDict.lower()=='n':\n",
        "\n",
        "      value,Type=map(str,input(\"Enter the value in format ( value type ): \").split())\n",
        "\n",
        "      if Type=='int':\n",
        "        while True:\n",
        "          try:\n",
        "            value=int(value)\n",
        "            break\n",
        "          except:\n",
        "            value=input(\"Enter the valid int type key: \")\n",
        "\n",
        "      record[key]=value\n",
        "    \n",
        "    if int(input('Press 1 for exit or Press 0 for continue: ')): break\n",
        "  \n",
        "  return record\n",
        "\n",
        "\n",
        "\n",
        "\n"
      ],
      "execution_count": null,
      "outputs": []
    },
    {
      "cell_type": "code",
      "metadata": {
        "colab": {
          "base_uri": "https://localhost:8080/"
        },
        "id": "f1XNHqvU_INH",
        "outputId": "713da467-38bd-4181-b3d2-55b621f95bce"
      },
      "source": [
        "print(\"Welcome to UI based dictionary maker\")\n",
        "record=dictionary_maker()"
      ],
      "execution_count": null,
      "outputs": [
        {
          "name": "stdout",
          "output_type": "stream",
          "text": [
            "Welcome to UI based dictionary maker\n",
            "Enter the key in format ( keyname type isvaluedict ): 119283 int y \n",
            "Welcome to UI based dictionary maker\n",
            "Enter the key in format ( keyname type isvaluedict ): name str n\n",
            "Enter the key in format ( value type ): cake str\n",
            "Press 1 for exit or Press 0 for continue0\n",
            "Enter the key in format ( keyname type isvaluedict ): size str n\n",
            "Enter the key in format ( value type ): 96 int\n",
            "Press 1 for exit or Press 0 for continue1\n",
            "Press 1 for exit or Press 0 for continue0\n",
            "Enter the key in format ( keyname type isvaluedict ): 119284 int y\n",
            "Welcome to UI based dictionary maker\n",
            "Enter the key in format ( keyname type isvaluedict ): name str n\n",
            "Enter the key in format ( value type ): milk str\n",
            "Press 1 for exit or Press 0 for continue0\n",
            "Enter the key in format ( keyname type isvaluedict ): size str n\n",
            "Enter the key in format ( value type ): 22 int\n",
            "Press 1 for exit or Press 0 for continue1\n",
            "Press 1 for exit or Press 0 for continue1\n"
          ]
        }
      ]
    },
    {
      "cell_type": "code",
      "metadata": {
        "colab": {
          "base_uri": "https://localhost:8080/"
        },
        "id": "v6-XxXKr_-4H",
        "outputId": "be8ac88c-8131-4ef1-eb45-1ef2b94a2693"
      },
      "source": [
        "record"
      ],
      "execution_count": null,
      "outputs": [
        {
          "output_type": "execute_result",
          "data": {
            "text/plain": [
              "{119283: {'name': 'cake', 'size': 96}, 119284: {'name': 'milk', 'size': 22}}"
            ]
          },
          "metadata": {},
          "execution_count": 44
        }
      ]
    },
    {
      "cell_type": "code",
      "metadata": {
        "colab": {
          "base_uri": "https://localhost:8080/"
        },
        "id": "F9BlzY2tANlm",
        "outputId": "e60e6f23-b643-433f-b238-6aa7bfdd0494"
      },
      "source": [
        "record[119283]"
      ],
      "execution_count": null,
      "outputs": [
        {
          "output_type": "execute_result",
          "data": {
            "text/plain": [
              "{'name': 'cake', 'size': 96}"
            ]
          },
          "metadata": {},
          "execution_count": 45
        }
      ]
    },
    {
      "cell_type": "markdown",
      "metadata": {
        "id": "uXFuakkngfFM"
      },
      "source": [
        "#**Lokesh Parab**"
      ]
    },
    {
      "cell_type": "markdown",
      "metadata": {
        "id": "spC5SrVvxALE"
      },
      "source": [
        "##**Dataset**"
      ]
    },
    {
      "cell_type": "code",
      "metadata": {
        "id": "SNothQ_YxGEu"
      },
      "source": [
        "record=\"\"\"Amul_milk_500ml 150 23\n",
        "Cadbury_Choclairs_Gold_5g 450 2\n",
        "Britannia_Toastea_Premium_Bake_Rusk_273g 100 30\n",
        "Amul_Butter_100g 232 45\n",
        "Amul_Masti_Spiced_Buttermilk_200ml 120 12\n",
        "Karachi_Bakery_Chocolate_Cashew_Biscuit_250_g 321 105\n",
        "Amul_Cheese_Chiplets_200g 222 114\n",
        "Gowardhan_Fresh_Paneer_200g 323 89\n",
        "Aashirvaad_Whole_Wheat_Atta_5kg 503 245\n",
        "Nutrapoorna_Sugandhi_Modak_Atta_500g 398 60\n",
        "Good_Life_Urad_Dal_1kg 464 158\n",
        "Good_Life_Chana_Dal_500g 349 56\n",
        "Good_Life_Masoor_Dal_500g 20 68\n",
        "Good_Life_Sharmili_Rajma_500g 43 91\"\"\"\n"
      ],
      "execution_count": null,
      "outputs": []
    },
    {
      "cell_type": "markdown",
      "metadata": {
        "id": "UEthHGUQC46o"
      },
      "source": [
        "##**IAM Dataset**\n",
        "###**Available Stock**\n",
        "  product_id:\n",
        "    \n",
        "    product_name:\n",
        "    total_quantity:\n",
        "    sales_price:\n",
        "\n",
        "###**Transaction**\n",
        "  transaction_id:\n",
        "  \n",
        "    customer_name:\n",
        "    products:{\n",
        "              product_id:{\n",
        "                            quantity:\n",
        "                            sales_price:\n",
        "                          }\n",
        "              }\n",
        "    type:\n",
        "    date:\n",
        "    amount:\n",
        "\n",
        "\n",
        "\n",
        "\n",
        "\n",
        "\n",
        "\n"
      ]
    },
    {
      "cell_type": "markdown",
      "metadata": {
        "id": "hFvjzATDhqoj"
      },
      "source": [
        "##**Dataset of patient**\n",
        "\n"
      ]
    },
    {
      "cell_type": "code",
      "metadata": {
        "id": "JEzbdx7Rj3Qb"
      },
      "source": [
        "newdict={ 1 :{'patient_id':\"aka588\", 'patient_name':\"akash\", 'gender':\"M\", 'age':20, 'weight':65, 'comorbidity':\"no\"},\n",
        "         2 :{'patient_id':\"anu288\", 'patient_name':\"anushka\", 'gender':\"F\", 'age':21, 'weight':55, 'comorbidity':\"acidity\"},\n",
        "         3 :{'patient_id':\"soh782\", 'patient_name':\"soham\", 'gender':\"M\", 'age':30, 'weight':66, 'comorbidity':\"migrane,acidity\"},\n",
        "         4 :{'patient_id':\"b01\", 'patient_name':\"bhushan\", 'gender':\"M\", 'age':15, 'weight':39, 'comorbidity':\"no\"},\n",
        "         5 :{'patient_id':\"d01\", 'patient_name':\"danish\", 'gender':\"M\", 'age':29, 'weight':70, 'comorbidity':\"headache,abdominal pain\"},\n",
        "         6 :{'patient_id':\"a03\", 'patient_name':\"ankit\", 'gender':\"M\", 'age':26, 'weight':55, 'comorbidity':\"no\"},\n",
        "         7 :{'patient_id':\"s02\", 'patient_name':\"sonam\", 'gender':\"F\", 'age':21, 'weight':59, 'comorbidity':\"no\"},\n",
        "         8 :{'patient_id':\"b02\", 'patient_name':\"bhumi\", 'gender':\"F\", 'age':23, 'weight':56, 'comorbidity':\"no\"},\n",
        "         }"
      ],
      "execution_count": null,
      "outputs": []
    },
    {
      "cell_type": "code",
      "metadata": {
        "id": "aI_e2kWQox2Y"
      },
      "source": [
        "patient_details={\n",
        "    'patientids':{\n",
        "        'akash 9902394588': 'aka588',\n",
        "        'anushka 9323457288': 'anu288',\n",
        "        'soham 9199237782': 'soh782',\n",
        "        'bhushan 8922496211': 'bhu211',\n",
        "        'danish 8923129934': 'dan934',\n",
        "        'ankit 7182447276': 'ank276',\n",
        "        'sonam 9004922890': 'son890',\n",
        "        'bhumi 9822127732': 'bhu723'\n",
        "    },\n",
        "\n",
        "    'aka588':{\n",
        "        'patient_name':\"akash\", 'gender':\"M\", 'age':20, 'weight':65, 'comorbidity':\"no\", 'phno':'9902394588',\n",
        "        'appointment':{\n",
        "            '02_09_2021':{\n",
        "                'status':'done',\n",
        "                'symptoms':'High fever and Cough'\n",
        "            }\n",
        "        }\n",
        "    },\n",
        "\n",
        "    'anu288':{\n",
        "        'patient_name':\"anushka\", 'gender':\"F\", 'age':21, 'weight':55, 'comorbidity':\"acidity\", 'phno':'9323457288',\n",
        "        'appointment':{\n",
        "            '02_09_2021':{\n",
        "                'status':'done',\n",
        "                'symptoms':'High fever and Pain'\n",
        "            }\n",
        "        }\n",
        "    },\n",
        "\n",
        "    'soh782':{\n",
        "        'patient_name':\"soham\", 'gender':\"M\", 'age':30, 'weight':66, 'comorbidity':\"migrane,acidity\", 'phno':'9199237782',\n",
        "        'appointment':{\n",
        "            '02_09_2021':{\n",
        "                'status':'pending for checkup',\n",
        "                'symptoms':'Vomitting'\n",
        "            }\n",
        "        }\n",
        "    },\n",
        "\n",
        "    'bhu211':{\n",
        "        'patient_name':\"bhushan\", 'gender':\"M\", 'age':15, 'weight':39, 'comorbidity':\"no\", 'phno':'8922496211',\n",
        "        'appointment':{\n",
        "            '02_09_2021':{\n",
        "                'status':'done',\n",
        "                'symptoms':'Hand Fracture'\n",
        "            }\n",
        "        }\n",
        "    },\n",
        "\n",
        "    'dan934':{\n",
        "        'patient_name':\"danish\", 'gender':\"M\", 'age':29, 'weight':70, 'comorbidity':\"headache,abdominal pain\", 'phno':'8923129934',\n",
        "        'appointment':{\n",
        "            '02_09_2021':{\n",
        "                'status':'pending for checkup',\n",
        "                'symptoms':'High fever and Pain'\n",
        "            }\n",
        "        }\n",
        "    },\n",
        "\n",
        "    'ank276':{\n",
        "        'patient_name':\"ankit\", 'gender':\"M\", 'age':26, 'weight':55, 'comorbidity':\"no\", 'phno':'7182447276',\n",
        "        'appointment':{\n",
        "            '02_09_2021':{\n",
        "                'status':'done',\n",
        "                'symptoms':'High fever and Cough'\n",
        "            }\n",
        "        }\n",
        "    },\n",
        "\n",
        "    'son890':{\n",
        "        'patient_name':\"sonam\", 'gender':\"F\", 'age':21, 'weight':59, 'comorbidity':\"no\", 'phno':'9004922890',\n",
        "        'appointment':{\n",
        "            '02_09_2021':{\n",
        "                'status':'done',\n",
        "                'symptoms':'High fever and Cough'\n",
        "            }\n",
        "        }\n",
        "    },\n",
        "\n",
        "    'bhu723':{\n",
        "        'patient_name':\"bhumi\", 'gender':\"F\", 'age':23, 'weight':56, 'comorbidity':\"no\", 'phno':'9822127732',\n",
        "        'appointment':{\n",
        "            '02_09_2021':{\n",
        "                'status':'done',\n",
        "                'symptoms':'High fever and Cough'\n",
        "            }\n",
        "        }\n",
        "    },\n",
        "\n",
        "    'todaysappoint':{\n",
        "        'today_date':'02_09_2021',\n",
        "        'no':8,\n",
        "         1 :\"aka588\",\n",
        "         2 :\"anu288\", \n",
        "         3 :\"soh782\", \n",
        "         4 :\"bhu211\",\n",
        "         5 :\"dan934\", \n",
        "         6 :\"ank276\", \n",
        "         7 :\"son890\", \n",
        "         8 :\"bhu723\", \n",
        "    }\n",
        "}"
      ],
      "execution_count": null,
      "outputs": []
    },
    {
      "cell_type": "code",
      "metadata": {
        "colab": {
          "base_uri": "https://localhost:8080/"
        },
        "id": "06Rs034dOn2P",
        "outputId": "b0a59f18-f8a4-44cb-a634-4d0cfe23e29d"
      },
      "source": [
        "if patient_details['patientids'].get( 'akash 9902394588', False ): print('y')"
      ],
      "execution_count": null,
      "outputs": [
        {
          "output_type": "stream",
          "name": "stdout",
          "text": [
            "y\n"
          ]
        }
      ]
    },
    {
      "cell_type": "code",
      "metadata": {
        "colab": {
          "base_uri": "https://localhost:8080/"
        },
        "id": "JCaR1cd5O6Yf",
        "outputId": "8add70f9-10fb-4406-be1d-195e04d9a1a9"
      },
      "source": [
        "t"
      ],
      "execution_count": null,
      "outputs": [
        {
          "output_type": "execute_result",
          "data": {
            "text/plain": [
              "False"
            ]
          },
          "metadata": {},
          "execution_count": 38
        }
      ]
    },
    {
      "cell_type": "code",
      "metadata": {
        "colab": {
          "base_uri": "https://localhost:8080/"
        },
        "id": "tBV_CUKebj00",
        "outputId": "458a9559-0011-4e80-80c6-1cfbc9a062ed"
      },
      "source": [
        "patient_details['patientids']"
      ],
      "execution_count": null,
      "outputs": [
        {
          "output_type": "execute_result",
          "data": {
            "text/plain": [
              "{'akash 9902394588': 'aka588',\n",
              " 'ankit 7182447276': 'ank276',\n",
              " 'anushka 9323457288': 'anu288',\n",
              " 'bhumi 9822127732': 'bhu723',\n",
              " 'bhushan 8922496211': 'bhu211',\n",
              " 'danish 8923129934': 'dan934',\n",
              " 'soham 9199237782': 'soh782',\n",
              " 'sonam 9004922890': 'son890'}"
            ]
          },
          "metadata": {},
          "execution_count": 3
        }
      ]
    },
    {
      "cell_type": "code",
      "metadata": {
        "colab": {
          "base_uri": "https://localhost:8080/"
        },
        "id": "oGnJ-002b3PN",
        "outputId": "50170db4-0732-41a6-e080-833e5f68bcc9"
      },
      "source": [
        "patient_details['todaysappoint']"
      ],
      "execution_count": null,
      "outputs": [
        {
          "output_type": "execute_result",
          "data": {
            "text/plain": [
              "{1: 'aka588',\n",
              " 2: 'anu288',\n",
              " 3: 'soh782',\n",
              " 4: 'bhu211',\n",
              " 5: 'dan934',\n",
              " 6: 'ank276',\n",
              " 7: 'son890',\n",
              " 8: 'bhu211',\n",
              " 'today_date': '02 09 2021'}"
            ]
          },
          "metadata": {},
          "execution_count": 55
        }
      ]
    },
    {
      "cell_type": "code",
      "metadata": {
        "id": "ZU742PCWrHSp"
      },
      "source": [
        " k=list(patient_details['todaysappoint'].items())"
      ],
      "execution_count": null,
      "outputs": []
    },
    {
      "cell_type": "code",
      "metadata": {
        "colab": {
          "base_uri": "https://localhost:8080/"
        },
        "id": "Yg1lpmTfta-L",
        "outputId": "7beffa82-b798-4734-e179-09fc8f658950"
      },
      "source": [
        "k"
      ],
      "execution_count": null,
      "outputs": [
        {
          "output_type": "execute_result",
          "data": {
            "text/plain": [
              "[('today_date', '02 09 2021'),\n",
              " ('no', 8),\n",
              " (1, 'aka588'),\n",
              " (2, 'anu288'),\n",
              " (3, 'soh782'),\n",
              " (4, 'bhu211'),\n",
              " (5, 'dan934'),\n",
              " (6, 'ank276'),\n",
              " (7, 'son890'),\n",
              " (8, 'bhu723')]"
            ]
          },
          "metadata": {},
          "execution_count": 23
        }
      ]
    },
    {
      "cell_type": "code",
      "metadata": {
        "id": "Mitz0g3GsGRM"
      },
      "source": [
        "k.remove(('today_date', '02 09 2021'))"
      ],
      "execution_count": null,
      "outputs": []
    },
    {
      "cell_type": "code",
      "metadata": {
        "colab": {
          "base_uri": "https://localhost:8080/"
        },
        "id": "21K5e3vyuOur",
        "outputId": "3cd5a38e-86b5-44cc-ac7b-671fac6b6a94"
      },
      "source": [
        "k\n"
      ],
      "execution_count": null,
      "outputs": [
        {
          "output_type": "execute_result",
          "data": {
            "text/plain": [
              "[('no', 8),\n",
              " (1, 'aka588'),\n",
              " (2, 'anu288'),\n",
              " (3, 'soh782'),\n",
              " (4, 'bhu211'),\n",
              " (5, 'dan934'),\n",
              " (6, 'ank276'),\n",
              " (7, 'son890'),\n",
              " (8, 'bhu723')]"
            ]
          },
          "metadata": {},
          "execution_count": 25
        }
      ]
    },
    {
      "cell_type": "code",
      "metadata": {
        "colab": {
          "base_uri": "https://localhost:8080/",
          "height": 35
        },
        "id": "Iz9_pNpXr1ja",
        "outputId": "0fedc4ed-ad01-4ee0-cf7a-881c681e7c9f"
      },
      "source": [
        "patient_details['todaysappoint']['today_date']"
      ],
      "execution_count": null,
      "outputs": [
        {
          "output_type": "execute_result",
          "data": {
            "application/vnd.google.colaboratory.intrinsic+json": {
              "type": "string"
            },
            "text/plain": [
              "'02 09 2021'"
            ]
          },
          "metadata": {},
          "execution_count": 7
        }
      ]
    },
    {
      "cell_type": "code",
      "metadata": {
        "id": "fLezZpeSHWY7"
      },
      "source": [
        "import json as js"
      ],
      "execution_count": null,
      "outputs": []
    },
    {
      "cell_type": "code",
      "metadata": {
        "id": "mWF3TenjHVon"
      },
      "source": [
        "fw = open('records.json','w')\n",
        "fw.write(js.dumps(patient_details))\n",
        "fw.close()"
      ],
      "execution_count": null,
      "outputs": []
    },
    {
      "cell_type": "markdown",
      "metadata": {
        "id": "f_Dei2Ymcequ"
      },
      "source": [
        "##**Doctor's and Patient IAM Application**"
      ]
    },
    {
      "cell_type": "markdown",
      "metadata": {
        "id": "sKr4E_33coat"
      },
      "source": [
        "### **Functions**"
      ]
    },
    {
      "cell_type": "code",
      "metadata": {
        "id": "joT_YN12GoTn"
      },
      "source": [
        "import time as t\n",
        "import json as js\n",
        "from datetime import date as d\n"
      ],
      "execution_count": null,
      "outputs": []
    },
    {
      "cell_type": "code",
      "metadata": {
        "id": "srSKmkBgvHDT"
      },
      "source": [
        "# reads records.json file and return dictionary \n",
        "def file_read():\n",
        "  print(\"*\"*80)\n",
        "  fw = open('records.json','r')\n",
        "  r = js.loads(fw.read())\n",
        "  fw.close()\n",
        "  return r\n",
        "  pass\n",
        "\n",
        "#Write records.json file for given dictionaty input \n",
        "def file_write(var):\n",
        "  fw = open('records.json','w')\n",
        "  fw.write(js.dumps(var))\n",
        "  fw.close()\n",
        "  pass"
      ],
      "execution_count": null,
      "outputs": []
    },
    {
      "cell_type": "code",
      "metadata": {
        "id": "tvvdp4KGvOU7"
      },
      "source": [
        "# Display the list of todays appointment\n",
        "def full_appoint_list():\n",
        "  \n",
        " #reading the file \n",
        "  patient_list = file_read()\n",
        "\n",
        "  #getting today's date from dictionary\n",
        "  date = patient_list['todaysappoint']['today_date']\n",
        "  \n",
        "  #printing todays date\n",
        "  print('todays_date:',date)\n",
        "  print('*'*40)\n",
        "\n",
        "  #printing all appointment list\n",
        "  for k,v in patient_list['todaysappoint'].items():\n",
        "    if k=='today_date' or k=='no' : continue\n",
        "    else:\n",
        "      print(k ,'| name :' ,patient_list[v]['patient_name'] ,'| gender :' ,patient_list[v]['gender'] ,'| age :' ,patient_list[v]['age'] )\n",
        "  pass"
      ],
      "execution_count": null,
      "outputs": []
    },
    {
      "cell_type": "code",
      "metadata": {
        "id": "e1zowO3G0JdL"
      },
      "source": [
        "# search the appointment and returns boolean value\n",
        "def search_appoint_list(name,phno):\n",
        "\n",
        "  #reading the file \n",
        "  patient_list = file_read()\n",
        "\n",
        "  #getting date and no to removing unwanted things from dictionary\n",
        "  date = patient_list['todaysappoint']['today_date']\n",
        "  title = 'todays_date'\n",
        "\n",
        "  no = ('no',patient_list['todaysappoint']['no'])\n",
        "  \n",
        "  #making key values pair tuples in the list\n",
        "  patient_list = list(patient_list['todaysappoint'].items())\n",
        "\n",
        "  #removing dates and no from list\n",
        "  patient_list.remove( (title,date) )\n",
        "  patient_list.remove( no )\n",
        "\n",
        "  #searching the patient and printing the appointment details\n",
        "  for k,v in patient_list:\n",
        "    if patient_list[v]['patient_name']==name and patient_list[v]['phno']==phno:\n",
        "      print('| id :' ,v ,'| name :' ,patient_list[v]['patient_name'] ,'| appointment_no :' ,k ,'| date :' ,date)\n",
        "      date=None\n",
        "      break\n",
        "  # for no appointment \n",
        "  if date!=None: \n",
        "    print(\"No Appointment Taken\")\n",
        "    return True\n",
        "  \n",
        "  else: return False\n",
        "  pass"
      ],
      "execution_count": null,
      "outputs": []
    },
    {
      "cell_type": "code",
      "metadata": {
        "id": "KT3FooTsHKYg"
      },
      "source": [
        "# take appointment \n",
        "\n",
        "def take_appointment(name,phno):\n",
        "  \n",
        "  #reading the file \n",
        "  patient_list = file_read()\n",
        "\n",
        "  #getting today's date from dictionary\n",
        "  dict_date = patient_list['todaysappoint']['today_date']\n",
        "\n",
        "  #getting today's date from system\n",
        "  today_date = d.today().strftime(\"%d %m %Y\")\n",
        "\n",
        "  if dict_date!=today_date:  patient_list['todaysappoint'] = { 'today_date':today_date, 'no':1 }\n",
        "    \n",
        "  #making id no and name phno format\n",
        "  id= name[:3]+phno[-3:]\n",
        "  no= patient_list['todaysappoint']['no']\n",
        "  name_phno = name+' '+phno\n",
        "\n",
        "  # add 'name phno':id in patientids for new user and keep same for existing user\n",
        "  patient_details['patientids'][ name_phno ] =  patient_details['patientids'].get( name_phno , id )\n",
        "\n",
        "  # making details by default \n",
        "  details={\n",
        "      'patient_name':name, 'phno':phno, 'gender':None, 'age':None, 'weight':None, 'comorbidity':None,\n",
        "        'appointment':{}\n",
        "  }\n",
        "\n",
        "  # add patient_details for new user and keep same for existing user\n",
        "  patient_details[id] = patient_details.get(id,details)\n",
        "\n",
        "  #adding appointment successfully\n",
        "  no+=1\n",
        "  patient_list['todaysappoint'][no]=id\n",
        "  patient_list['todaysappoint']['no']=no\n",
        "  print('| id :' ,id ,'| name :' ,name ,'| appointment_no :' ,no ,'| date :' ,today_date)\n",
        "\n",
        "  #write in file\n",
        "  "
      ],
      "execution_count": 46,
      "outputs": []
    },
    {
      "cell_type": "code",
      "metadata": {
        "id": "Dxp6vK50hwyV"
      },
      "source": [
        "def print_profile(patient,id):\n",
        "  print( 'Id :' ,id )\n",
        "  print('Name :' ,patient['patient_name'] )\n",
        "  print('Phone no :' ,patient_details['phno'] )\n",
        "  print('Weight :',patient_details['weight'])\n",
        "  print('Gender :' ,patient['gender'] )\n",
        "  print('Age :' ,patient['age'] )\n",
        "  print('Comorbidity :' ,patient['comorbidity'] )"
      ],
      "execution_count": null,
      "outputs": []
    },
    {
      "cell_type": "code",
      "metadata": {
        "id": "p7fbWpyCW7p7"
      },
      "source": [
        "def doctor_update_patients_profile(id):\n",
        "\n",
        "  #reading the file \n",
        "  patient_details = file_read()\n",
        "\n",
        "  #updating things for newly user\n",
        "  if patient_details[id]['gender']==None: patient_details[id]['gender']=input(\"Enter the gender (M F T): \")\n",
        "  if patient_details[id]t['age']==None: patient_details[id]['age']=int(input(\"Enter the age: \"))\n",
        "  if patient_details[id]['weight']==None: patient_details[id]['weight']=int(input(\"Enter the weight: \"))\n",
        "  if patient_details[id]['comorbidity']==None: patient_details[id]['comorbidity']=input(\"Enter the comorbidity: \")\n",
        "\n",
        "  while True:\n",
        "    #print the details of patient\n",
        "    print_profile(patient_details[id],id)\n",
        "  \n",
        "    #change detail of patient  \n",
        "    print('Want to update profile in','1.Name','2.Phone no','3.Gender','4.Age' ,'5.Weight','6.Comorbidity','7.Everything is okay',sep='\\n')\n",
        "    while True:\n",
        "      try:\n",
        "       opt=int(input())\n",
        "       if opt > 0 and opt < 6: print(\"Insert Proper input\")\n",
        "       else: break\n",
        "      except:\n",
        "        print(\"invalid input\") \n",
        "\n",
        "      if opt==1: patient_details[id]['patient_name']=input(\"Enter the name: \")\n",
        "      elif opt==2: patient_details[id]['phno']=input(\"Enter the Phone no: \")\n",
        "      elif opt==3: patient_details[id]['gender']=input(\"Enter the gender (M F T): \")\n",
        "      elif opt==4: patient_details[id]['age']=int(input(\"Enter the age: \"))\n",
        "      elif opt==5: patient_details[id]['weight']=int(input(\"Enter the weight: \"))\n",
        "      elif opt==6: patient_details[id]['comorbidity']=input(\"Enter the comorbidity: \")\n",
        "      else: break\n",
        "      \n",
        "    #add appointment details\n",
        "    patient_details[id]['appointment'][d.today().strftime(\"%d_%m_%Y\")] = { 'status':input('Enter the status') ,'symptoms':input('Enter the symptoms') }\n",
        "\n",
        "\n",
        "\n",
        "\n",
        "\n"
      ],
      "execution_count": null,
      "outputs": []
    },
    {
      "cell_type": "markdown",
      "metadata": {
        "id": "xp38n5_Dxpn3"
      },
      "source": [
        "###**Testing Functions**"
      ]
    },
    {
      "cell_type": "code",
      "metadata": {
        "id": "frTkBpUexvmW"
      },
      "source": [
        ""
      ],
      "execution_count": null,
      "outputs": []
    },
    {
      "cell_type": "markdown",
      "metadata": {
        "id": "5UOpmicNw-wL"
      },
      "source": [
        "###**Doctor's Application**"
      ]
    },
    {
      "cell_type": "code",
      "metadata": {
        "id": "UdrzMudyw-M2"
      },
      "source": [
        "while True:\n",
        "  print(\"*\"*20,\"Welcome to IAM Application\",\"*\"*20)\n",
        "  print(\"1.Check appointment list\",\"2.Call the patient\",sep='\\n')\n",
        "  op1 = int(input())\n",
        "\n",
        "  if op1==1:\n",
        "  \n",
        "  elif op1==2:\n",
        "\n",
        "  else:"
      ],
      "execution_count": null,
      "outputs": []
    },
    {
      "cell_type": "markdown",
      "metadata": {
        "id": "F84LALmFxQfY"
      },
      "source": [
        "###**Patient's Application**"
      ]
    },
    {
      "cell_type": "code",
      "metadata": {
        "id": "MtNvmx6DLYw0",
        "colab": {
          "base_uri": "https://localhost:8080/"
        },
        "outputId": "ef17943c-bbe8-47ee-f78e-c1df1f27aafd"
      },
      "source": [
        "doctor_update_patients_update('aka588')"
      ],
      "execution_count": null,
      "outputs": [
        {
          "output_type": "stream",
          "name": "stdout",
          "text": [
            "********************************************************************************\n",
            "{'patient_name': 'akash', 'gender': 'M', 'age': 20, 'weight': 65, 'comorbidity': 'no', 'phno': '9902394588', 'appointment': {'02_09_2021': {'status': 'done', 'symptoms': 'High fever and Cough'}}}\n"
          ]
        }
      ]
    },
    {
      "cell_type": "markdown",
      "metadata": {
        "id": "LMHxjJoE0mzk"
      },
      "source": [
        "###**Date formation**"
      ]
    },
    {
      "cell_type": "code",
      "metadata": {
        "id": "tOztz_6XPw16",
        "colab": {
          "base_uri": "https://localhost:8080/",
          "height": 35
        },
        "outputId": "04b84b61-8772-46a3-ee79-742a6c25ecd9"
      },
      "source": [
        "from datetime import date as d\n",
        "\n",
        "today=d.today()\n",
        "\n",
        "d.today().strftime(\"%d %m %Y\")"
      ],
      "execution_count": null,
      "outputs": [
        {
          "output_type": "execute_result",
          "data": {
            "application/vnd.google.colaboratory.intrinsic+json": {
              "type": "string"
            },
            "text/plain": [
              "'04 09 2021'"
            ]
          },
          "metadata": {},
          "execution_count": 32
        }
      ]
    },
    {
      "cell_type": "markdown",
      "metadata": {
        "id": "GzkD9GT6j_jj"
      },
      "source": [
        "###**Create json file**"
      ]
    },
    {
      "cell_type": "code",
      "metadata": {
        "id": "x2HYMGtTj8gr"
      },
      "source": [
        "import json\n",
        "import time as t"
      ],
      "execution_count": null,
      "outputs": []
    },
    {
      "cell_type": "code",
      "metadata": {
        "id": "2f51k5OfkWuh"
      },
      "source": [
        "time=t.ctime()\n",
        "time=time.split()\n",
        "time='_'.join(time)\n",
        "f_name=time+'_appointment.json'"
      ],
      "execution_count": null,
      "outputs": []
    },
    {
      "cell_type": "code",
      "metadata": {
        "colab": {
          "base_uri": "https://localhost:8080/",
          "height": 35
        },
        "id": "ush-lh7Xk-07",
        "outputId": "bfbd96d8-0ffc-48b0-ceb3-77f6d3189f45"
      },
      "source": [
        "f_name"
      ],
      "execution_count": null,
      "outputs": [
        {
          "output_type": "execute_result",
          "data": {
            "application/vnd.google.colaboratory.intrinsic+json": {
              "type": "string"
            },
            "text/plain": [
              "'Thu_Sep_2_08:20:44_2021_appointment.json'"
            ]
          },
          "metadata": {},
          "execution_count": 29
        }
      ]
    },
    {
      "cell_type": "code",
      "metadata": {
        "id": "eDHVvFfHmYar"
      },
      "source": [
        "fw = open(f_name,'w')\n",
        "fw.write(json.dumps(newdict))\n",
        "fw.close()"
      ],
      "execution_count": null,
      "outputs": []
    },
    {
      "cell_type": "markdown",
      "metadata": {
        "id": "4yuw_IxM36-3"
      },
      "source": [
        "##**Define Structure**\n",
        "\n"
      ]
    },
    {
      "cell_type": "markdown",
      "metadata": {
        "id": "NAAlzUFaw-eI"
      },
      "source": [
        "#**Sahil Wani** "
      ]
    },
    {
      "cell_type": "markdown",
      "metadata": {
        "id": "kW7SJGOFO5Kb"
      },
      "source": [
        "##**Dataset of patient details in perticular hospital**\n",
        "\n",
        "attributes- \n",
        "\n",
        "    appointment_id:{\n",
        "                      patient_id:\n",
        "                      patient_name: \n",
        "                      gender: \n",
        "                      age: \n",
        "                      weight: \n",
        "                      any_comorbidity: \n",
        "                   } "
      ]
    },
    {
      "cell_type": "code",
      "metadata": {
        "id": "Wgsn2DkWSNrN"
      },
      "source": [
        "newdict={ 1 :{'patient_id':\"a01\", 'patient_name':\"akash\", 'gender':\"M\", 'age':20, 'weight':65, 'comorbidity':\"no\"},\n",
        "         2 :{'patient_id':\"a02\", 'patient_name':\"anushka\", 'gender':\"F\", 'age':21, 'weight':55, 'comorbidity':\"acidity\"},\n",
        "         3 :{'patient_id':\"s01\", 'patient_name':\"soham\", 'gender':\"M\", 'age':30, 'weight':66, 'comorbidity':\"migrane,acidity\"},\n",
        "         4 :{'patient_id':\"b01\", 'patient_name':\"bhushan\", 'gender':\"M\", 'age':15, 'weight':39, 'comorbidity':\"no\"},\n",
        "         5 :{'patient_id':\"d01\", 'patient_name':\"danish\", 'gender':\"M\", 'age':29, 'weight':70, 'comorbidity':\"headache,abdominal pain\"},\n",
        "         6 :{'patient_id':\"a03\", 'patient_name':\"ankit\", 'gender':\"M\", 'age':26, 'weight':55, 'comorbidity':\"no\"},\n",
        "         7 :{'patient_id':\"s02\", 'patient_name':\"sonam\", 'gender':\"F\", 'age':21, 'weight':59, 'comorbidity':\"no\"},\n",
        "         8 :{'patient_id':\"b02\", 'patient_name':\"bhumi\", 'gender':\"F\", 'age':23, 'weight':56, 'comorbidity':\"no\"}\n",
        "         }"
      ],
      "execution_count": null,
      "outputs": []
    },
    {
      "cell_type": "code",
      "metadata": {
        "colab": {
          "base_uri": "https://localhost:8080/"
        },
        "id": "6yP7_iwxauxu",
        "outputId": "ffc3094b-a7b5-4b7a-da98-cd6aded7c167"
      },
      "source": [
        "for key, value in newdict.items():\n",
        "  print(key, ' : ', value)"
      ],
      "execution_count": null,
      "outputs": [
        {
          "output_type": "stream",
          "name": "stdout",
          "text": [
            "1  :  {'patient_id': 'a01', 'patient_name': 'akash', 'gender': 'M', 'age': 20, 'weight': 65, 'comorbidity': 'no'}\n",
            "2  :  {'patient_id': 'a02', 'patient_name': 'anushka', 'gender': 'F', 'age': 21, 'weight': 55, 'comorbidity': 'acidity'}\n",
            "3  :  {'patient_id': 's01', 'patient_name': 'soham', 'gender': 'M', 'age': 30, 'weight': 66, 'comorbidity': 'migrane,acidity'}\n",
            "4  :  {'patient_id': 'b01', 'patient_name': 'bhushan', 'gender': 'M', 'age': 15, 'weight': 39, 'comorbidity': 'no'}\n",
            "5  :  {'patient_id': 'd01', 'patient_name': 'danish', 'gender': 'M', 'age': 29, 'weight': 70, 'comorbidity': 'headache,abdominal pain'}\n",
            "6  :  {'patient_id': 'a03', 'patient_name': 'ankit', 'gender': 'M', 'age': 26, 'weight': 55, 'comorbidity': 'no'}\n",
            "7  :  {'patient_id': 's02', 'patient_name': 'sonam', 'gender': 'F', 'age': 21, 'weight': 59, 'comorbidity': 'no'}\n",
            "8  :  {'patient_id': 'b02', 'patient_name': 'bhumi', 'gender': 'F', 'age': 23, 'weight': 56, 'comorbidity': 'no'}\n"
          ]
        }
      ]
    },
    {
      "cell_type": "code",
      "metadata": {
        "colab": {
          "base_uri": "https://localhost:8080/"
        },
        "id": "rURog_9_NQLn",
        "outputId": "94537bde-cf13-4095-86f5-b030fe6e2988"
      },
      "source": [
        "newdict"
      ],
      "execution_count": null,
      "outputs": [
        {
          "output_type": "execute_result",
          "data": {
            "text/plain": [
              "{1: {'age': 20,\n",
              "  'comorbidity': 'no',\n",
              "  'gender': 'M',\n",
              "  'patient_id': 'a01',\n",
              "  'patient_name': 'akash',\n",
              "  'weight': 65},\n",
              " 2: {'age': 21,\n",
              "  'comorbidity': 'acidity',\n",
              "  'gender': 'F',\n",
              "  'patient_id': 'a02',\n",
              "  'patient_name': 'anushka',\n",
              "  'weight': 55},\n",
              " 3: {'age': 30,\n",
              "  'comorbidity': 'migrane,acidity',\n",
              "  'gender': 'M',\n",
              "  'patient_id': 's01',\n",
              "  'patient_name': 'soham',\n",
              "  'weight': 66},\n",
              " 4: {'age': 15,\n",
              "  'comorbidity': 'no',\n",
              "  'gender': 'M',\n",
              "  'patient_id': 'b01',\n",
              "  'patient_name': 'bhushan',\n",
              "  'weight': 39},\n",
              " 5: {'age': 29,\n",
              "  'comorbidity': 'headache,abdominal pain',\n",
              "  'gender': 'M',\n",
              "  'patient_id': 'd01',\n",
              "  'patient_name': 'danish',\n",
              "  'weight': 70},\n",
              " 6: {'age': 26,\n",
              "  'comorbidity': 'no',\n",
              "  'gender': 'M',\n",
              "  'patient_id': 'a03',\n",
              "  'patient_name': 'ankit',\n",
              "  'weight': 55},\n",
              " 7: {'age': 21,\n",
              "  'comorbidity': 'no',\n",
              "  'gender': 'F',\n",
              "  'patient_id': 's02',\n",
              "  'patient_name': 'sonam',\n",
              "  'weight': 59},\n",
              " 8: {'age': 23,\n",
              "  'comorbidity': 'no',\n",
              "  'gender': 'F',\n",
              "  'patient_id': 'b02',\n",
              "  'patient_name': 'bhumi',\n",
              "  'weight': 56}}"
            ]
          },
          "metadata": {},
          "execution_count": 5
        }
      ]
    }
  ]
}